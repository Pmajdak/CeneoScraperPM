{
 "cells": [
  {
   "cell_type": "markdown",
   "metadata": {},
   "source": [
    "0. Import bibliotek"
   ]
  },
  {
   "cell_type": "code",
   "execution_count": 59,
   "metadata": {},
   "outputs": [],
   "source": [
    "import os\n",
    "import pandas as pd\n",
    "import numpy as np\n",
    "from matplotlib import pyplot as plt"
   ]
  },
  {
   "cell_type": "markdown",
   "metadata": {},
   "source": [
    "1. Wyświetlanie listy id produktów o których zostały pobrane opinie"
   ]
  },
  {
   "cell_type": "code",
   "execution_count": 60,
   "metadata": {},
   "outputs": [
    {
     "name": "stdout",
     "output_type": "stream",
     "text": [
      "['131097916', '165423702', '78035068']\n"
     ]
    }
   ],
   "source": [
    "print([file.split(\".\")[0] for file in os.listdir(\"opinions\")], sep =\"\\n\")"
   ]
  },
  {
   "cell_type": "markdown",
   "metadata": {},
   "source": [
    "2. Wczytanie kodu produktu o którym mają zostać przeanalizowane opinie"
   ]
  },
  {
   "cell_type": "code",
   "execution_count": 61,
   "metadata": {},
   "outputs": [
    {
     "data": {
      "text/html": [
       "<div>\n",
       "<style scoped>\n",
       "    .dataframe tbody tr th:only-of-type {\n",
       "        vertical-align: middle;\n",
       "    }\n",
       "\n",
       "    .dataframe tbody tr th {\n",
       "        vertical-align: top;\n",
       "    }\n",
       "\n",
       "    .dataframe thead th {\n",
       "        text-align: right;\n",
       "    }\n",
       "</style>\n",
       "<table border=\"1\" class=\"dataframe\">\n",
       "  <thead>\n",
       "    <tr style=\"text-align: right;\">\n",
       "      <th></th>\n",
       "      <th>opinion_id</th>\n",
       "      <th>author</th>\n",
       "      <th>recommend</th>\n",
       "      <th>stars</th>\n",
       "      <th>content</th>\n",
       "      <th>cons</th>\n",
       "      <th>pros</th>\n",
       "      <th>opinion_date</th>\n",
       "      <th>purchased_date</th>\n",
       "      <th>upvote</th>\n",
       "      <th>downvote</th>\n",
       "    </tr>\n",
       "  </thead>\n",
       "  <tbody>\n",
       "    <tr>\n",
       "      <th>0</th>\n",
       "      <td>18658443</td>\n",
       "      <td>d...m</td>\n",
       "      <td>Polecam</td>\n",
       "      <td>5.0</td>\n",
       "      <td>Zmiana z iPhone 13 na Samsung a55 - nie żałuję...</td>\n",
       "      <td>[]</td>\n",
       "      <td>[czas pracy na baterii, funkcjonalność, łatwoś...</td>\n",
       "      <td>2024-05-19 11:28:44</td>\n",
       "      <td>2024-05-04 12:47:41</td>\n",
       "      <td>3</td>\n",
       "      <td>2</td>\n",
       "    </tr>\n",
       "    <tr>\n",
       "      <th>1</th>\n",
       "      <td>18715862</td>\n",
       "      <td>g...o</td>\n",
       "      <td>Polecam</td>\n",
       "      <td>5.0</td>\n",
       "      <td>Mam go kilka dni i póki co wszysko jest ok. Za...</td>\n",
       "      <td>[]</td>\n",
       "      <td>[]</td>\n",
       "      <td>2024-06-07 08:51:31</td>\n",
       "      <td>2024-05-28 19:51:35</td>\n",
       "      <td>0</td>\n",
       "      <td>0</td>\n",
       "    </tr>\n",
       "    <tr>\n",
       "      <th>2</th>\n",
       "      <td>18621082</td>\n",
       "      <td>p...i</td>\n",
       "      <td>Polecam</td>\n",
       "      <td>5.0</td>\n",
       "      <td>Użytkuję telefon kilka tygodni. Spełnia wszyst...</td>\n",
       "      <td>[]</td>\n",
       "      <td>[]</td>\n",
       "      <td>2024-05-03 08:46:25</td>\n",
       "      <td>2024-04-10 22:58:19</td>\n",
       "      <td>6</td>\n",
       "      <td>0</td>\n",
       "    </tr>\n",
       "    <tr>\n",
       "      <th>3</th>\n",
       "      <td>18662695</td>\n",
       "      <td>p...i</td>\n",
       "      <td>Polecam</td>\n",
       "      <td>5.0</td>\n",
       "      <td>Bardzo solidne wykonanie, świetny wyświetlacz,...</td>\n",
       "      <td>[]</td>\n",
       "      <td>[czas pracy na baterii, funkcjonalność, łatwoś...</td>\n",
       "      <td>2024-05-21 08:22:28</td>\n",
       "      <td>2024-05-02 08:36:25</td>\n",
       "      <td>0</td>\n",
       "      <td>1</td>\n",
       "    </tr>\n",
       "    <tr>\n",
       "      <th>4</th>\n",
       "      <td>18654396</td>\n",
       "      <td>w...z</td>\n",
       "      <td>Polecam</td>\n",
       "      <td>5.0</td>\n",
       "      <td>jakość świetna, menu jak z każdym nowym telefo...</td>\n",
       "      <td>[]</td>\n",
       "      <td>[]</td>\n",
       "      <td>2024-05-16 19:37:44</td>\n",
       "      <td>2024-05-08 16:24:58</td>\n",
       "      <td>0</td>\n",
       "      <td>0</td>\n",
       "    </tr>\n",
       "    <tr>\n",
       "      <th>...</th>\n",
       "      <td>...</td>\n",
       "      <td>...</td>\n",
       "      <td>...</td>\n",
       "      <td>...</td>\n",
       "      <td>...</td>\n",
       "      <td>...</td>\n",
       "      <td>...</td>\n",
       "      <td>...</td>\n",
       "      <td>...</td>\n",
       "      <td>...</td>\n",
       "      <td>...</td>\n",
       "    </tr>\n",
       "    <tr>\n",
       "      <th>139</th>\n",
       "      <td>18679596</td>\n",
       "      <td>e...8</td>\n",
       "      <td>Polecam</td>\n",
       "      <td>5.0</td>\n",
       "      <td>ok</td>\n",
       "      <td>[]</td>\n",
       "      <td>[]</td>\n",
       "      <td>2024-05-27 20:23:07</td>\n",
       "      <td>2024-05-12 18:44:10</td>\n",
       "      <td>0</td>\n",
       "      <td>0</td>\n",
       "    </tr>\n",
       "    <tr>\n",
       "      <th>140</th>\n",
       "      <td>18667805</td>\n",
       "      <td>h...s</td>\n",
       "      <td>Polecam</td>\n",
       "      <td>4.0</td>\n",
       "      <td>OK</td>\n",
       "      <td>[]</td>\n",
       "      <td>[czas pracy na baterii, funkcjonalność, łatwoś...</td>\n",
       "      <td>2024-05-22 12:27:51</td>\n",
       "      <td>2024-05-11 12:58:00</td>\n",
       "      <td>0</td>\n",
       "      <td>0</td>\n",
       "    </tr>\n",
       "    <tr>\n",
       "      <th>141</th>\n",
       "      <td>18667592</td>\n",
       "      <td>s...3</td>\n",
       "      <td>Polecam</td>\n",
       "      <td>5.0</td>\n",
       "      <td>Ok</td>\n",
       "      <td>[]</td>\n",
       "      <td>[czas pracy na baterii, funkcjonalność, łatwoś...</td>\n",
       "      <td>2024-05-22 11:45:31</td>\n",
       "      <td>2024-05-20 19:54:06</td>\n",
       "      <td>0</td>\n",
       "      <td>0</td>\n",
       "    </tr>\n",
       "    <tr>\n",
       "      <th>142</th>\n",
       "      <td>18644120</td>\n",
       "      <td>d...k</td>\n",
       "      <td>Polecam</td>\n",
       "      <td>5.0</td>\n",
       "      <td>Ok</td>\n",
       "      <td>[]</td>\n",
       "      <td>[]</td>\n",
       "      <td>2024-05-13 18:37:57</td>\n",
       "      <td>2024-05-05 20:09:41</td>\n",
       "      <td>0</td>\n",
       "      <td>0</td>\n",
       "    </tr>\n",
       "    <tr>\n",
       "      <th>143</th>\n",
       "      <td>18599726</td>\n",
       "      <td>m...0</td>\n",
       "      <td>Polecam</td>\n",
       "      <td>5.0</td>\n",
       "      <td>ok</td>\n",
       "      <td>[]</td>\n",
       "      <td>[]</td>\n",
       "      <td>2024-04-24 09:08:21</td>\n",
       "      <td>2024-04-18 14:15:42</td>\n",
       "      <td>0</td>\n",
       "      <td>0</td>\n",
       "    </tr>\n",
       "  </tbody>\n",
       "</table>\n",
       "<p>144 rows × 11 columns</p>\n",
       "</div>"
      ],
      "text/plain": [
       "     opinion_id author recommend  stars  \\\n",
       "0      18658443  d...m   Polecam    5.0   \n",
       "1      18715862  g...o   Polecam    5.0   \n",
       "2      18621082  p...i   Polecam    5.0   \n",
       "3      18662695  p...i   Polecam    5.0   \n",
       "4      18654396  w...z   Polecam    5.0   \n",
       "..          ...    ...       ...    ...   \n",
       "139    18679596  e...8   Polecam    5.0   \n",
       "140    18667805  h...s   Polecam    4.0   \n",
       "141    18667592  s...3   Polecam    5.0   \n",
       "142    18644120  d...k   Polecam    5.0   \n",
       "143    18599726  m...0   Polecam    5.0   \n",
       "\n",
       "                                               content cons  \\\n",
       "0    Zmiana z iPhone 13 na Samsung a55 - nie żałuję...   []   \n",
       "1    Mam go kilka dni i póki co wszysko jest ok. Za...   []   \n",
       "2    Użytkuję telefon kilka tygodni. Spełnia wszyst...   []   \n",
       "3    Bardzo solidne wykonanie, świetny wyświetlacz,...   []   \n",
       "4    jakość świetna, menu jak z każdym nowym telefo...   []   \n",
       "..                                                 ...  ...   \n",
       "139                                                 ok   []   \n",
       "140                                                 OK   []   \n",
       "141                                                 Ok   []   \n",
       "142                                                 Ok   []   \n",
       "143                                                 ok   []   \n",
       "\n",
       "                                                  pros         opinion_date  \\\n",
       "0    [czas pracy na baterii, funkcjonalność, łatwoś...  2024-05-19 11:28:44   \n",
       "1                                                   []  2024-06-07 08:51:31   \n",
       "2                                                   []  2024-05-03 08:46:25   \n",
       "3    [czas pracy na baterii, funkcjonalność, łatwoś...  2024-05-21 08:22:28   \n",
       "4                                                   []  2024-05-16 19:37:44   \n",
       "..                                                 ...                  ...   \n",
       "139                                                 []  2024-05-27 20:23:07   \n",
       "140  [czas pracy na baterii, funkcjonalność, łatwoś...  2024-05-22 12:27:51   \n",
       "141  [czas pracy na baterii, funkcjonalność, łatwoś...  2024-05-22 11:45:31   \n",
       "142                                                 []  2024-05-13 18:37:57   \n",
       "143                                                 []  2024-04-24 09:08:21   \n",
       "\n",
       "          purchased_date  upvote  downvote  \n",
       "0    2024-05-04 12:47:41       3         2  \n",
       "1    2024-05-28 19:51:35       0         0  \n",
       "2    2024-04-10 22:58:19       6         0  \n",
       "3    2024-05-02 08:36:25       0         1  \n",
       "4    2024-05-08 16:24:58       0         0  \n",
       "..                   ...     ...       ...  \n",
       "139  2024-05-12 18:44:10       0         0  \n",
       "140  2024-05-11 12:58:00       0         0  \n",
       "141  2024-05-20 19:54:06       0         0  \n",
       "142  2024-05-05 20:09:41       0         0  \n",
       "143  2024-04-18 14:15:42       0         0  \n",
       "\n",
       "[144 rows x 11 columns]"
      ]
     },
     "execution_count": 61,
     "metadata": {},
     "output_type": "execute_result"
    }
   ],
   "source": [
    "product_id = input(\"Podaj kod produktu: \")\n",
    "opinions = pd.read_json(f'opinions/{product_id}.json')\n",
    "opinions.stars = opinions.stars.apply(lambda s: s.split(\"/\")[0].replace(\",\", \".\")).astype(float)\n",
    "opinions"
   ]
  },
  {
   "cell_type": "markdown",
   "metadata": {},
   "source": [
    "3. Podstawowe statystyki"
   ]
  },
  {
   "cell_type": "code",
   "execution_count": 62,
   "metadata": {},
   "outputs": [
    {
     "data": {
      "text/plain": [
       "4.840277777777778"
      ]
     },
     "execution_count": 62,
     "metadata": {},
     "output_type": "execute_result"
    }
   ],
   "source": [
    "opinion_count = opinions.shape[0]\n",
    "pros_count = opinions.pros.astype(bool).sum()\n",
    "cons_count = opinions.cons.astype(bool).sum()\n",
    "avarage_stars = opinions.stars.mean()\n",
    "avarage_stars"
   ]
  },
  {
   "cell_type": "markdown",
   "metadata": {},
   "source": [
    "4. Histogram częstości ocen w opiniach"
   ]
  },
  {
   "cell_type": "code",
   "execution_count": 63,
   "metadata": {},
   "outputs": [
    {
     "data": {
      "text/plain": [
       "[Text(0, 0, '0'),\n",
       " Text(0, 0, '0'),\n",
       " Text(0, 0, '0'),\n",
       " Text(0, 0, '0'),\n",
       " Text(0, 0, '0'),\n",
       " Text(0, 0, '1'),\n",
       " Text(0, 0, '0'),\n",
       " Text(0, 0, '14'),\n",
       " Text(0, 0, '14'),\n",
       " Text(0, 0, '115')]"
      ]
     },
     "execution_count": 63,
     "metadata": {},
     "output_type": "execute_result"
    },
    {
     "data": {
      "image/png": "[encoded data removed]",
      "text/plain": [
       "<Figure size 640x480 with 1 Axes>"
      ]
     },
     "metadata": {},
     "output_type": "display_data"
    }
   ],
   "source": [
    "stars_distribution = opinions.stars.value_counts().reindex(np.arange(0.5,5.5,0.5))\n",
    "ax = stars_distribution.plot.bar(color = \"lightgreen\")\n",
    "ax.set_title(f\"Historia częstotliwości ocen w opiniach o produkcie {product_id}\")\n",
    "ax.set_xlabel(\"Liczba gwiazdek\")\n",
    "ax.set_ylabel(\"Liczba opinii\")\n",
    "ax.set_xticklabels(ax.get_xticklabels(), rotation = 0)\n",
    "ax.bar_label(ax.containers[0], label_type=\"edge\", fmt=lambda l: int(l) if 1 > 0 else '')"
   ]
  },
  {
   "cell_type": "markdown",
   "metadata": {},
   "source": [
    "5. Wykres udziału rekomendacji w opiniach"
   ]
  },
  {
   "cell_type": "code",
   "execution_count": 64,
   "metadata": {},
   "outputs": [
    {
     "data": {
      "text/plain": [
       "Text(0.5, 1.0, 'Udział rekomendacji w opiniach o produkcie 165423702')"
      ]
     },
     "execution_count": 64,
     "metadata": {},
     "output_type": "execute_result"
    },
    {
     "data": {
      "image/png": "[encoded data removed]",
      "text/plain": [
       "<Figure size 640x480 with 1 Axes>"
      ]
     },
     "metadata": {},
     "output_type": "display_data"
    }
   ],
   "source": [
    "recomendations_distribution = opinions.recommend.value_counts(dropna=False).reindex([\"Polecam\", \"Nie polecam\", None])\n",
    "recomendations_distribution.plot.pie(\n",
    "    autopct = lambda p: f'{p:.1f}%' if p > 0 else '',\n",
    "    label = \"\",\n",
    "    colors = ['forestgreen', 'crimson', 'lightgrey'],\n",
    "    labels = ['Polecam', 'Nie polecam', 'Nie mam zdania']\n",
    ")\n",
    "plt.title(f\"Udział rekomendacji w opiniach o produkcie {product_id}\")"
   ]
  }
 ],
 "metadata": {
  "kernelspec": {
   "display_name": "Python 3",
   "language": "python",
   "name": "python3"
  },
  "language_info": {
   "codemirror_mode": {
    "name": "ipython",
    "version": 3
   },
   "file_extension": ".py",
   "mimetype": "text/x-python",
   "name": "python",
   "nbconvert_exporter": "python",
   "pygments_lexer": "ipython3",
   "version": "3.11.9"
  }
 },
 "nbformat": 4,
 "nbformat_minor": 2
}
