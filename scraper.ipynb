{
 "cells": [
  {
   "cell_type": "markdown",
   "metadata": {},
   "source": [
    "# Ceneo Scraper\n",
    "**Struktura opinii w serwisie ceneo.pl:**\n",
    "|Składowa|Selektor|Zmienna|\n",
    "|--------|--------|--------|\n",
    "|*identyfikator opinii*|[\"data-entry-id\"]|`opinion_id`|\n",
    "|*autora*|span.user-post__author-name|`author`|\n",
    "|*rekomendację*|span.user-post__author-recomendation > em|`recommend`|\n",
    "|*liczbę gwiazdek*|span.user-post__score-count|`stars`|\n",
    "|*treść opinii*|div.user-post__text|`content`|\n",
    "|*listę wad*|div.review-feature__title review-feature__title--negatives ~ div.review-feature__item|`cons`|\n",
    "|*listę zalet*|div.review-feature__title review-feature__title--positives ~ div.review-feature__item|`pros`|\n",
    "|*data wystawienia opinii*|span.user-post__published > time:nth-child(1)[\"datetime\"]|`opinion_date`|\n",
    "|*data zakupu produktu*|span.user-post__published > time:nth-child(2)[\"datetime\"]|`purchase_date`|\n",
    "|*ile osób uznało opinię za przydatną*|button.vote-yes[\"data-total-vote\"]|`upvote`|\n",
    "|*ile osób uznało opinię za nieprzydatną*|button.vote-no[\"data-total-vote\"]|`downvote`|\n",
    "\n"
   ]
  },
  {
   "cell_type": "code",
   "execution_count": 118,
   "metadata": {},
   "outputs": [],
   "source": [
    "selectors = {\n",
    "    \"opinion_id\": (None, \"data-entry-id\"),\n",
    "    \"author\" : (\"span.user-post__author-name\",),\n",
    "    \"recommend\" : (\"span.user-post__author-recomendation > em\",),\n",
    "    \"stars\" : (\"span.user-post__score-count\",),\n",
    "    \"content\": (\"div.user-post__text\",),\n",
    "    \"cons\": (\"div.review-feature__title--negatives ~ div.review-feature__item\", None, True),\n",
    "    \"pros\": (\"div.review-feature__title--positives ~ div.review-feature__item\", None, True),\n",
    "    \"opinion_date\" : ((\"span.user-post__published > time:nth-child(1)\"),\"datetime\"),\n",
    "    \"purchased_date\" : ((\"span.user-post__published > time:nth-child(2)\"),\"datetime\"),\n",
    "    \"upvote\": (\"button.vote-yes\", \"data-total-vote\"),\n",
    "    \"downvote\": (\"button.vote-no\", \"data-total-vote\")\n",
    "}"
   ]
  },
  {
   "cell_type": "markdown",
   "metadata": {},
   "source": [
    "### Funkcja do ekstrakcji danych z kodu HTML"
   ]
  },
  {
   "cell_type": "code",
   "execution_count": 119,
   "metadata": {},
   "outputs": [],
   "source": [
    "def extract(ancestor, selector=None, attribute=None, return_list=False):\n",
    "    if return_list:\n",
    "        if attribute:\n",
    "            return [tag[attribute].strip() for tag in ancestor.select(selector)]\n",
    "        return [tag.text.strip() for tag in ancestor.select(selector)]\n",
    "    if selector:\n",
    "        if attribute:\n",
    "            try:\n",
    "                return ancestor.select_one(selector)[attribute].strip()\n",
    "            except TypeError:\n",
    "                return None        \n",
    "        try:\n",
    "            return ancestor.select_one(selector).text.strip()\n",
    "        except AttributeError:\n",
    "            return None\n",
    "    if attribute:\n",
    "        return ancestor[attribute].strip()\n",
    "    return ancestor.text.strip()"
   ]
  },
  {
   "cell_type": "markdown",
   "metadata": {},
   "source": [
    "### 1. Import bibliotek\n"
   ]
  },
  {
   "cell_type": "code",
   "execution_count": 120,
   "metadata": {},
   "outputs": [],
   "source": [
    "import os\n",
    "import json\n",
    "import requests\n",
    "from bs4 import BeautifulSoup"
   ]
  },
  {
   "cell_type": "markdown",
   "metadata": {},
   "source": [
    "### 2. Wczytanie kodu produktu o którym pobierzemy opinie\n"
   ]
  },
  {
   "cell_type": "code",
   "execution_count": 121,
   "metadata": {},
   "outputs": [],
   "source": [
    "# product_id = 78035068\n",
    "product_id = input(\"Podaj kod produktu: \")\n",
    "url = f\"https://www.ceneo.pl/{product_id}#tab=reviews\""
   ]
  },
  {
   "cell_type": "markdown",
   "metadata": {},
   "source": [
    "### 3. Pobieranie wszystkich opini o wskazanym produkcie z serwisu Ceneo.pl"
   ]
  },
  {
   "cell_type": "code",
   "execution_count": 122,
   "metadata": {},
   "outputs": [],
   "source": [
    "all_opinions = []\n",
    "while(url):\n",
    "    response = requests.get(url)\n",
    "    page = BeautifulSoup(response.text, \"html.parser\")\n",
    "    opinions = page.select(\"div.js_product-review\")\n",
    "    for opinion in opinions:\n",
    "        single_opinion = {\n",
    "            key: extract(opinion, *value)\n",
    "                for key, value in selectors.items()\n",
    "        }\n",
    "        all_opinions.append(single_opinion)\n",
    "    try:    \n",
    "        url = \"https://www.ceneo.pl\" + extract(page, \"a.pagination__next\", \"href\")\n",
    "    except TypeError:\n",
    "        url = None"
   ]
  },
  {
   "cell_type": "markdown",
   "metadata": {},
   "source": [
    "### 4. Zapis opinii o produkcie do pliku JSON do katalogu opinions"
   ]
  },
  {
   "cell_type": "code",
   "execution_count": 123,
   "metadata": {},
   "outputs": [
    {
     "data": {
      "text/plain": [
       "[{'opinion_id': '14489974',\n",
       "  'author': 'm...a',\n",
       "  'recommend': 'Polecam',\n",
       "  'stars': '5/5',\n",
       "  'content': 'Super kryjący krem. Fizyczne filtry, w sam raz dla atopika. Po nałożeniu zostawia bardzo wyraźny biały ślad, który zanika dopiero po kwadransie. Mi to akurat nie przeszkadza. Ciekawy produkt.',\n",
       "  'cons': [],\n",
       "  'pros': [],\n",
       "  'opinion_date': '2021-05-20 21:43:35',\n",
       "  'purchased_date': '2021-05-08 08:56:45',\n",
       "  'upvote': '2',\n",
       "  'downvote': '0'},\n",
       " {'opinion_id': '12342496',\n",
       "  'author': 'Użytkownik Ceneo',\n",
       "  'recommend': None,\n",
       "  'stars': '3/5',\n",
       "  'content': 'Krem ma chyba najlepszy skład na rynku. Same naturalne, mineralne składniki. Z tym, że niestety przez to strasznie trudno się rozsmarowuję i zostawia biały nalot. Przy małym dziecku, które nie lubi smarowania jest to spory problem....',\n",
       "  'cons': [],\n",
       "  'pros': [],\n",
       "  'opinion_date': '2020-05-05 18:58:12',\n",
       "  'purchased_date': '2020-04-05 00:45:58',\n",
       "  'upvote': '6',\n",
       "  'downvote': '1'},\n",
       " {'opinion_id': '14668134',\n",
       "  'author': 's...8',\n",
       "  'recommend': 'Polecam',\n",
       "  'stars': '4,5/5',\n",
       "  'content': 'Jeżeli chodzi o skład i skuteczność to produkt jest bardzo dobry i te zalety zdecydowanie przeważają nad wadami tj. ciężko się rozsmarowuje i bieli skórę.',\n",
       "  'cons': ['bieli skórę', 'gęsta konsystencja', 'trudno rozsmarowac'],\n",
       "  'pros': ['skład', 'skuteczność', 'wydajność', 'zapach'],\n",
       "  'opinion_date': '2021-07-01 07:35:49',\n",
       "  'purchased_date': '2021-06-16 17:46:26',\n",
       "  'upvote': '1',\n",
       "  'downvote': '0'},\n",
       " {'opinion_id': '14377710',\n",
       "  'author': 'Użytkownik Ceneo',\n",
       "  'recommend': 'Polecam',\n",
       "  'stars': '5/5',\n",
       "  'content': 'Póki co nie ma wielkich upałów, ale się sprawdza na delikatnej skórze niemowlaka. Łatwo się rozprowadza, opakowanie jest wygodne, bo nie trzeba odkręcać, można wycisnąć.',\n",
       "  'cons': [],\n",
       "  'pros': ['skład', 'wydajność', 'zapach'],\n",
       "  'opinion_date': '2021-04-28 23:23:50',\n",
       "  'purchased_date': '2021-04-01 00:15:36',\n",
       "  'upvote': '1',\n",
       "  'downvote': '1'},\n",
       " {'opinion_id': '12903141',\n",
       "  'author': 'Kasia',\n",
       "  'recommend': 'Polecam',\n",
       "  'stars': '4/5',\n",
       "  'content': 'Produkt gęsty, mocno bieli. Ma przyjemny zapach. Niestety po dłuższym stosowaniu zapycha i na twarzy pojawiły się wypryski.',\n",
       "  'cons': [],\n",
       "  'pros': ['skład', 'skuteczność', 'wydajność', 'zapach'],\n",
       "  'opinion_date': '2020-08-05 08:35:39',\n",
       "  'purchased_date': '2020-07-21 23:19:20',\n",
       "  'upvote': '1',\n",
       "  'downvote': '0'},\n",
       " {'opinion_id': '18630900',\n",
       "  'author': 'k...7',\n",
       "  'recommend': 'Polecam',\n",
       "  'stars': '5/5',\n",
       "  'content': 'Super filtr dla dzieci. Uwaga bo zostawia biały filtr, mi to nie przeszkadza. Najważniejsze że skóra dzieci jest chroniona.',\n",
       "  'cons': [],\n",
       "  'pros': [],\n",
       "  'opinion_date': '2024-05-08 07:24:59',\n",
       "  'purchased_date': '2024-04-15 12:54:37',\n",
       "  'upvote': '0',\n",
       "  'downvote': '0'},\n",
       " {'opinion_id': '15950683',\n",
       "  'author': 'Anna',\n",
       "  'recommend': 'Polecam',\n",
       "  'stars': '5/5',\n",
       "  'content': 'Dobry skład, filtr mineralny odpowiedni dla niemowląt. rozsmarowywanie ciężkie ale tak ma być',\n",
       "  'cons': [],\n",
       "  'pros': ['skład', 'skuteczność'],\n",
       "  'opinion_date': '2022-04-12 13:17:14',\n",
       "  'purchased_date': '2022-03-23 13:15:15',\n",
       "  'upvote': '0',\n",
       "  'downvote': '0'},\n",
       " {'opinion_id': '14677494',\n",
       "  'author': 'n...9',\n",
       "  'recommend': 'Polecam',\n",
       "  'stars': '5/5',\n",
       "  'content': 'Ciężko się rozsmarowuje, ale ochrona jest najważniejsza, krem do rzęs chroni skórę przed słońcem',\n",
       "  'cons': [],\n",
       "  'pros': [],\n",
       "  'opinion_date': '2021-07-02 22:29:54',\n",
       "  'purchased_date': '2021-06-17 23:19:38',\n",
       "  'upvote': '0',\n",
       "  'downvote': '1'},\n",
       " {'opinion_id': '18607030',\n",
       "  'author': 's...4',\n",
       "  'recommend': 'Nie polecam',\n",
       "  'stars': '0,5/5',\n",
       "  'content': 'Produktu jest połowa w opakowaniu nie polecam',\n",
       "  'cons': [],\n",
       "  'pros': [],\n",
       "  'opinion_date': '2024-04-26 08:59:30',\n",
       "  'purchased_date': '2024-04-23 19:28:16',\n",
       "  'upvote': '0',\n",
       "  'downvote': '0'},\n",
       " {'opinion_id': '10693974',\n",
       "  'author': 'TN',\n",
       "  'recommend': 'Nie polecam',\n",
       "  'stars': '1/5',\n",
       "  'content': 'Szkoda pieniędzy na ten krem... Nie można to rozsmarować kremu, okropnie bieli- dziecko wyglądało jak chore po zastosowaniu... A dodatkowo baaardzo ciężko go zmyć',\n",
       "  'cons': ['bieli skórę',\n",
       "   'dziwny zapach',\n",
       "   'gęsta konsystencja',\n",
       "   'skuteczność',\n",
       "   'trudno rozsmarowac',\n",
       "   'wydajność',\n",
       "   'zapach',\n",
       "   'zatyka pory'],\n",
       "  'pros': [],\n",
       "  'opinion_date': '2019-06-24 10:14:54',\n",
       "  'purchased_date': '2019-05-23 13:15:38',\n",
       "  'upvote': '6',\n",
       "  'downvote': '6'}]"
      ]
     },
     "execution_count": 123,
     "metadata": {},
     "output_type": "execute_result"
    }
   ],
   "source": [
    "if not os.path.exists('opinions'):\n",
    "    os.mkdir('opinions')\n",
    "with open(f'opinions/{product_id}.json', \"w\", encoding=\"UTF-8\") as jf:\n",
    "    json.dump(all_opinions, jf, indent=4, ensure_ascii=False)\n",
    "\n",
    "all_opinions"
   ]
  }
 ],
 "metadata": {
  "kernelspec": {
   "display_name": ".venv",
   "language": "python",
   "name": "python3"
  },
  "language_info": {
   "codemirror_mode": {
    "name": "ipython",
    "version": 3
   },
   "file_extension": ".py",
   "mimetype": "text/x-python",
   "name": "python",
   "nbconvert_exporter": "python",
   "pygments_lexer": "ipython3",
   "version": "3.11.9"
  }
 },
 "nbformat": 4,
 "nbformat_minor": 2
}
