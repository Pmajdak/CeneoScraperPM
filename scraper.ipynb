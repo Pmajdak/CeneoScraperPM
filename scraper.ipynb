{
 "cells": [
  {
   "cell_type": "markdown",
   "metadata": {},
   "source": [
    "# Ceneo Scraper\n",
    "**Struktura opinii w serwisie ceneo.pl:**\n",
    "|Składowa|Selektor|Zmienna|\n",
    "|--------|--------|--------|\n",
    "|*identyfikator opinii*|[\"data-entry-id\"]|`opinion_id`|\n",
    "|*autora*|span.user-post__author-name|`author`|\n",
    "|*rekomendację*|span.user-post__author-recomendation > em|`recommend`|\n",
    "|*liczbę gwiazdek*|span.user-post__score-count|`stars`|\n",
    "|*treść opinii*|div.user-post__text|`content`|\n",
    "|*listę wad*|div.review-feature__title review-feature__title--negatives ~ div.review-feature__item|`cons`|\n",
    "|*listę zalet*|div.review-feature__title review-feature__title--positives ~ div.review-feature__item|`pros`|\n",
    "|*data wystawienia opinii*|span.user-post__published > time:nth-child(1)[\"datetime\"]|`opinion_date`|\n",
    "|*data zakupu produktu*|span.user-post__published > time:nth-child(2)[\"datetime\"]|`purchase_date`|\n",
    "|*ile osób uznało opinię za przydatną*|button.vote-yes[\"data-total-vote\"]|`upvote`|\n",
    "|*ile osób uznało opinię za nieprzydatną*|button.vote-no[\"data-total-vote\"]|`downvote`|\n",
    "\n",
    "### 1. Import bibliotek"
   ]
  },
  {
   "cell_type": "code",
   "execution_count": null,
   "metadata": {},
   "outputs": [],
   "source": [
    "import requests\n",
    "from bs4 import BeautifulSoup"
   ]
  },
  {
   "cell_type": "markdown",
   "metadata": {},
   "source": [
    "### 2. Wczytanie kodu produktu o którym pobierzemy opinie\n"
   ]
  },
  {
   "cell_type": "code",
   "execution_count": null,
   "metadata": {},
   "outputs": [],
   "source": [
    "product_id = 78035068\n",
    "url = f\"https://www.ceneo.pl/{product_id}#tab=reviews\""
   ]
  },
  {
   "cell_type": "markdown",
   "metadata": {},
   "source": [
    "### 3. Wysłanie do serwera Ceneo.pl żądania dostępu do strony z opiniami o produkcie"
   ]
  },
  {
   "cell_type": "code",
   "execution_count": null,
   "metadata": {},
   "outputs": [],
   "source": [
    "response = requests.get(url)\n",
    "response.status_code"
   ]
  },
  {
   "cell_type": "markdown",
   "metadata": {},
   "source": [
    "### 4. Etap IV\n",
    "- Przekształcenie kodu HTML w postaci tekstowej do obiektu reprezentującego strukturę DOM\n",
    "- Wydobycie ze struktury DOM znaczników odpowiadających opiniom  konsumentów"
   ]
  },
  {
   "cell_type": "code",
   "execution_count": null,
   "metadata": {},
   "outputs": [],
   "source": [
    "page = BeautifulSoup(response.text, \"html.parser\")\n",
    "opinions = page.select(\"div.js_product-review\")\n",
    "opinion = page.select_one(\"div.js_product-review\")\n",
    "print(opinions)"
   ]
  },
  {
   "cell_type": "markdown",
   "metadata": {},
   "source": [
    "### 5. Etap V"
   ]
  },
  {
   "cell_type": "code",
   "execution_count": null,
   "metadata": {},
   "outputs": [],
   "source": [
    "def extract(ancestor, selector=None, attribute=None, return_list=False):\n",
    "    if return_list:\n",
    "        if attribute:\n",
    "            return [tag[attribute].strip() for tag in ancestor.select(selector)]\n",
    "        return [tag.text.strip() for tag in ancestor.select(selector)]\n",
    "    if selector:\n",
    "        if attribute:\n",
    "            return ancestor.select_one(selector)[attribute].strip()\n",
    "        return ancestor.select_one(selector).text.strip()\n",
    "    if attribute:\n",
    "        return ancestor[attribute].strip()\n",
    "    return ancestor.text.strip()"
   ]
  },
  {
   "cell_type": "markdown",
   "metadata": {},
   "source": [
    "### 6. Etap VI"
   ]
  },
  {
   "cell_type": "code",
   "execution_count": null,
   "metadata": {},
   "outputs": [],
   "source": [
    "single_opinion = {\n",
    "    'opinion_id': extract(opinion, None, \"data-entry-id\"),\n",
    "    \"author\" : extract(opinion, \"span.user-post__author-name\"),\n",
    "    \"recommend\" : extract(opinion, \"span.user-post__author-recomendation > em\"),\n",
    "    \"stars\" : extract(opinion, \"span.user-post__score-count\"),\n",
    "    \"opinion_date\" : extract(opinion,(\"span.user-post__published > time:nth-child(1)\"),\"datetime\"),\n",
    "    \"purchased_date\" : extract(opinion,(\"span.user-post__published > time:nth-child(2)\"),\"datetime\"),\n",
    "    'content': extract(opinion, \"div.user-post__text\"),\n",
    "    'cons': extract(opinion, \"div.review-feature__title--negatives ~ div.review-feature__item\", None, True),\n",
    "    'pros': extract(opinion, \"div.review-feature__title--positives ~ div.review-feature__item\", None, True),\n",
    "    'upvote': extract(opinion, \"button.vote-yes\", \"data-total-vote\"),\n",
    "    'downvote': extract(opinion, \"button.vote-no\", \"data-total-vote\")\n",
    "}\n",
    "\n",
    "print(single_opinion)"
   ]
  }
 ],
 "metadata": {
  "kernelspec": {
   "display_name": ".venv",
   "language": "python",
   "name": "python3"
  },
  "language_info": {
   "codemirror_mode": {
    "name": "ipython",
    "version": 3
   },
   "file_extension": ".py",
   "mimetype": "text/x-python",
   "name": "python",
   "nbconvert_exporter": "python",
   "pygments_lexer": "ipython3",
   "version": "3.12.3"
  }
 },
 "nbformat": 4,
 "nbformat_minor": 2
}
